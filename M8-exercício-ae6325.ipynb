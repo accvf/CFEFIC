{
 "cells": [
  {
   "cell_type": "markdown",
   "id": "3cd95dbd",
   "metadata": {},
   "source": [
    "## Resolução Exercício - M8 (CFECIC)\n",
    "Ana Catarina Ferreira (ae6325)"
   ]
  },
  {
   "cell_type": "code",
   "execution_count": 2,
   "id": "ced6639c",
   "metadata": {
    "scrolled": true
   },
   "outputs": [
    {
     "name": "stdout",
     "output_type": "stream",
     "text": [
      "LOCUS       HIVI5C                   231 bp    DNA     linear   VRL 24-MAR-1997\n",
      "DEFINITION  Human immunodeficiency virus type 1 (isolate genotype C, I5) gag\n",
      "            gene, partial cds.\n",
      "ACCESSION   L42022\n",
      "VERSION     L42022.1\n",
      "KEYWORDS    gag gene; p24 protein.\n",
      "SOURCE      Human immunodeficiency virus 1 (HIV-1)\n",
      "  ORGANISM  Human immunodeficiency virus 1\n",
      "            Viruses; Riboviria; Pararnavirae; Artverviricota; Revtraviricetes;\n",
      "            Ortervirales; Retroviridae; Orthoretrovirinae; Lentivirus.\n",
      "REFERENCE   1  (bases 1 to 231)\n",
      "  AUTHORS   Voevodin,A., Crandall,K.A., Seth,P. and al Mufti,S.\n",
      "  TITLE     HIV type 1 subtypes B and C from new regions of India and Indian\n",
      "            and Ethiopian expatriates in Kuwait\n",
      "  JOURNAL   AIDS Res. Hum. Retroviruses 12 (7), 641-643 (1996)\n",
      "   PUBMED   8743090\n",
      "FEATURES             Location/Qualifiers\n",
      "     source          1..231\n",
      "                     /organism=\"Human immunodeficiency virus 1\"\n",
      "                     /proviral\n",
      "                     /mol_type=\"genomic DNA\"\n",
      "                     /isolate=\"genotype C, I5\"\n",
      "                     /db_xref=\"taxon:11676\"\n",
      "     gene            1..231\n",
      "                     /gene=\"gag\"\n",
      "     CDS             <1..>231\n",
      "                     /gene=\"gag\"\n",
      "                     /codon_start=1\n",
      "                     /protein_id=\"AAB50165.1\"\n",
      "                     /translation=\"HPVHAGPIAPGQMREPRGSDIAGTTSTLQEQVAWMTGNPPVPVG\n",
      "                     EIYKRWIILGLNKIVRMYSPVSILDIKQGPKEP\"\n",
      "ORIGIN      \n",
      "        1 catccagtac atgcagggcc tattgcacca ggccaaatga gagaaccaag gggaagtgac\n",
      "       61 atagcaggaa ctacaagtac ccttcaggaa caagtagcat ggatgacagg taacccacct\n",
      "      121 gttccagtgg gagaaatcta taaaagatgg ataattctgg gattaaataa aatagtaaga\n",
      "      181 atgtatagcc ctgtcagcat tttggacata aaacaagggc caaaggaacc c\n",
      "//\n",
      "\n",
      "\n"
     ]
    }
   ],
   "source": [
    "import re\n",
    "\n",
    "fonte = open(\"exercice_m8.gb\",'r')\n",
    "locus = fonte.read()\n",
    "fonte.close()\n",
    "print( locus )"
   ]
  },
  {
   "cell_type": "code",
   "execution_count": 5,
   "id": "b668e01a",
   "metadata": {},
   "outputs": [
    {
     "data": {
      "text/plain": [
       "['        1 catccagtac atgcagggcc tattgcacca ggccaaatga gagaaccaag gggaagtgac',\n",
       " '       61 atagcaggaa ctacaagtac ccttcaggaa caagtagcat ggatgacagg taacccacct',\n",
       " '      121 gttccagtgg gagaaatcta taaaagatgg ataattctgg gattaaataa aatagtaaga',\n",
       " '      181 atgtatagcc ctgtcagcat tttggacata aaacaagggc caaaggaacc c']"
      ]
     },
     "execution_count": 5,
     "metadata": {},
     "output_type": "execute_result"
    }
   ],
   "source": [
    "re.findall(\"^\\s+\\d+ [actg ]+\", locus, re.MULTILINE)"
   ]
  },
  {
   "cell_type": "code",
   "execution_count": 12,
   "id": "78ff04d1",
   "metadata": {},
   "outputs": [
    {
     "name": "stdout",
     "output_type": "stream",
     "text": [
      "Human immunodeficiency virus type 1 (isolate genotype C, I5) gag gene, partial cds.\n"
     ]
    }
   ],
   "source": [
    "#Dado Exercício - uma entrada do genbank (como a do exemplo anterior), escreva um pequeno programa que, dado um registo, dá a respetiva definição.\n",
    "#Resultado esperado - Human immunodeficiency virus type 1 (isolate genotype C, I5) gag gene, partial cds.\n",
    "\n",
    "import re\n",
    "fonte = open(\"exercice_m8.gb\",'r')\n",
    "locus = fonte.read()\n",
    "fonte.close()\n",
    "\n",
    "# Obter tudo o que está na definition\n",
    "groups = re.search(r'DEFINITION\\s+([^.]+.)', locus)\n",
    "\n",
    "# Obter grupo correspondente à frase\n",
    "frase = groups[1]\n",
    "\n",
    "# Tirar whitespaces a mais\n",
    "definition = re.sub('\\s+',' ', frase)\n",
    "\n",
    "# Imprimir resposta\n",
    "print(definition)\n"
   ]
  }
 ],
 "metadata": {
  "kernelspec": {
   "display_name": "Python 3.10.2 64-bit",
   "language": "python",
   "name": "python3"
  },
  "language_info": {
   "codemirror_mode": {
    "name": "ipython",
    "version": 3
   },
   "file_extension": ".py",
   "mimetype": "text/x-python",
   "name": "python",
   "nbconvert_exporter": "python",
   "pygments_lexer": "ipython3",
   "version": "3.10.2"
  },
  "vscode": {
   "interpreter": {
    "hash": "369f2c481f4da34e4445cda3fffd2e751bd1c4d706f27375911949ba6bb62e1c"
   }
  }
 },
 "nbformat": 4,
 "nbformat_minor": 5
}
